{
 "cells": [
  {
   "cell_type": "markdown",
   "id": "dfd59f02-1694-4da8-b492-e63236232f92",
   "metadata": {},
   "source": [
    "### 연산자 끼워넣기(재귀함수 사용)\n",
    "##### 백준 14888번(https://www.acmicpc.net/problem/14888)\n",
    "\n",
    "#### 1. 연산자 리스트를 모든 조합을 만들고 전부계산한다음 최소최대찾기\n",
    "#### 2. 재귀함수를 이용하여 문제풀기\n",
    "\n",
    "#### 알고리즘\n",
    "##### = 재귀함수 이용: 이항씩 나누어볼때 할수있는 경우의 수가 4개(사칙연산)이기때문에 4가지의 경우의수로 재귀함수를 돌린다\n",
    "\n",
    "#### 입력 데이터\n",
    "##### 6\n",
    "##### 1 2 3 4 5 6\n",
    "##### 2 1 1 1\n",
    "#### 출력 데이터\n",
    "##### 54 -24"
   ]
  },
  {
   "cell_type": "code",
   "execution_count": 3,
   "id": "16d1e07e-6bc8-448d-9582-3d55fd7f8deb",
   "metadata": {},
   "outputs": [
    {
     "name": "stdout",
     "output_type": "stream",
     "text": [
      " 6\n",
      " 1 2 3 4 5 6\n",
      " 2 1 1 1\n"
     ]
    },
    {
     "name": "stdout",
     "output_type": "stream",
     "text": [
      "54\n",
      "-24\n"
     ]
    }
   ],
   "source": [
    "### 나의 풀이 (조합 사용)\n",
    "from itertools import permutations\n",
    "import sys\n",
    "\n",
    "def calc(a, operator, b):\n",
    "    if operator == \"+\":\n",
    "        return a + b\n",
    "    elif operator == \"-\":\n",
    "        return a - b\n",
    "    elif operator == \"*\":\n",
    "        return a * b\n",
    "    elif operator == \"/\":\n",
    "        if b != 0:\n",
    "            return a / b\n",
    "    else: print(\"?\")\n",
    "            \n",
    "def calc_op(op):\n",
    "    sum=list_[0]\n",
    "    for i in range(len(list_)-1):\n",
    "        sum=int(calc(sum,op[i],list_[i+1]))\n",
    "    return sum\n",
    "        \n",
    "n,list_,temp=int(input()),list(map(int,input().split())),list(map(int,input().split()))\n",
    "temp = ['+']*temp[0]+['-']*temp[1]+['*']*temp[2]+['/']*temp[3]\n",
    "list_op = list(set(permutations(temp,n-1)))\n",
    "min_,max_=9000000000,-9000000000\n",
    "\n",
    "for i in list_op:\n",
    "    result=calc_op(i)\n",
    "    if max_<result: max_=result\n",
    "    if min_>result: min_=result\n",
    "print(max_)\n",
    "print(min_)"
   ]
  },
  {
   "cell_type": "code",
   "execution_count": 6,
   "id": "e4c88bee-60d3-444c-b9f2-8b57d3049755",
   "metadata": {},
   "outputs": [
    {
     "name": "stdout",
     "output_type": "stream",
     "text": [
      " 6\n",
      " 1 2 3 4 5 6\n",
      " 2 1 1 1\n"
     ]
    },
    {
     "name": "stdout",
     "output_type": "stream",
     "text": [
      "54\n",
      "-24\n"
     ]
    }
   ],
   "source": [
    "# 다른사람 풀이1( 재귀함수 사용 )\n",
    "import sys\n",
    "\n",
    "def calc(i, current):\n",
    "    global max_num, min_num, N, num, operator\n",
    "    if N == i:\n",
    "        max_num = max(max_num, current)\n",
    "        min_num = min(min_num, current)\n",
    "    else:\n",
    "        if operator[0]:# op리스트가 [1,2,1,1] 이런식으로 들어가있다 -> op[0]은 +개수\n",
    "            operator[0] -= 1 # +하나 사용한다는 의미\n",
    "            calc(i + 1, current + num[i])# +가 하나 빠지고 재귀함수 실행\n",
    "            operator[0] += 1 # + 하나 빠진계산이 전부 재귀함수로 완료되고 +가 아닌 다른 연산자 빠진상태로 계산하기위해 +개수를 1개 더해주어 원상복구 \n",
    "        if operator[1]:\n",
    "            operator[1] -= 1\n",
    "            calc(i + 1, current - num[i])\n",
    "            operator[1] += 1\n",
    "        if operator[2]:\n",
    "            operator[2] -= 1\n",
    "            calc(i + 1, current * num[i])\n",
    "            operator[2] += 1\n",
    "        if operator[3]:\n",
    "            operator[3] -= 1\n",
    "            if current < 0:\n",
    "                tmp = -(-current // num[i])# 음수 분모일때 계산법(C++의 규칙따를때)\n",
    "            else:\n",
    "                tmp = current // num[i]\n",
    "            calc(i + 1, tmp)\n",
    "            operator[3] += 1\n",
    "\n",
    "N = int(input())\n",
    "num = list(map(int, input().split()))\n",
    "operator = list(map(int, input().split()))\n",
    "max_num = -100000000\n",
    "min_num = 100000000\n",
    "\n",
    "calc(1, num[0])#1은 현재 몇번째 숫자까지 도달했는지 알려주고 num[0]은 처음 숫자\n",
    "\n",
    "print(max_num)\n",
    "print(min_num)"
   ]
  },
  {
   "cell_type": "markdown",
   "id": "199e9c4c-312c-4d07-b015-a1a901d94c2b",
   "metadata": {},
   "source": [
    "### 괄호의 값\n",
    "##### 백준 2504번(https://www.acmicpc.net/problem/2504)\n",
    "\n",
    "#### 스텍을 이용하여 괄호가 알맞은 순서로 나열됐는지 검사해야한다\n",
    "#### 괄호마다 점수가 있는데 괄호안에 있는 괄호들은 다 *연산을 적용하기때문에 계산하기 복잡하다\n",
    "\n",
    "#### 알고리즘\n",
    "##### 처음에는 진짜 계산값인 result 변수와 괄호마다 연산에 필요한 임시 변수 temp를 선언한다\n",
    "##### (는 *2, [는 *3로 쌓일때마다 해주고 첫번째에 마주친 닫친괄호를 보면 결과값에 더해준다(*연산이므로 temp 초기값은 1이다)\n",
    "##### 에러시를 대비하여 스택을 이용하여 괄호를 검사해준다.\n",
    "\n",
    "#### 입력 데이터\n",
    "##### (()[[]])([])\n",
    "#### 출력 데이터\n",
    "##### 28\n",
    "#### 입력 데이터2\n",
    "##### \\[][]\\(\\(])\n",
    "#### 출력 데이터2\n",
    "##### 0"
   ]
  },
  {
   "cell_type": "code",
   "execution_count": 44,
   "id": "f8826df0-256e-4080-b122-519669706890",
   "metadata": {},
   "outputs": [
    {
     "name": "stdout",
     "output_type": "stream",
     "text": [
      " (()[[]])([])\n"
     ]
    },
    {
     "name": "stdout",
     "output_type": "stream",
     "text": [
      "28\n"
     ]
    }
   ],
   "source": [
    "# 나의 풀이(답지봄)\n",
    "list_=list(input())\n",
    "stack = list()\n",
    "result=0\n",
    "temp=1\n",
    "\n",
    "for i in range(len(list_)):\n",
    "    if list_[i] == '(':\n",
    "        stack.append('(')\n",
    "        temp *= 2\n",
    "    if list_[i] == '[':\n",
    "        stack.append('[')\n",
    "        temp *= 3\n",
    "    if list_[i] == ')':\n",
    "        if not stack or stack.pop() != '(' : # not stack을 하는이유는 (())) 이런식으로 올때 stack이 비어져있을때 pop을하면 에러가나기때문(stack이 비어있는지 먼저계산 해야한다.)\n",
    "            stack.append('dfs')\n",
    "            break\n",
    "        if list_[i-1] != ')' and list_[i-1] !=']':\n",
    "            result += temp\n",
    "        temp //= 2\n",
    "    if list_[i] == ']':\n",
    "        if not stack or stack.pop() != '[': \n",
    "            stack.append('dfs')\n",
    "            break\n",
    "        if list_[i-1] != ')' and list_[i-1] !=']':\n",
    "            result += temp\n",
    "        temp //= 3\n",
    "if stack: print(0)\n",
    "else : print(result)"
   ]
  },
  {
   "cell_type": "markdown",
   "id": "ccac183a-dcad-4051-9ff2-1fbe377f721d",
   "metadata": {},
   "source": [
    "### 빗물(시뮬레이션)\n",
    "##### 백준 14719번(https://www.acmicpc.net/problem/14719)\n",
    "\n",
    "#### \n",
    "\n",
    "#### 알고리즘\n",
    "##### \n",
    "\n",
    "#### 입력 데이터\n",
    "##### 4 4\n",
    "#### 출력 데이터\n",
    "##### 3 0 1 4\n",
    "#### 입력 데이터2\n",
    "##### 4 8\n",
    "#### 출력 데이터2\n",
    "##### 3 1 2 3 4 1 1 2\n",
    "#### 입력 데이터3\n",
    "##### 3 5\n",
    "#### 출력 데이터3\n",
    "##### 0 0 0 2 0"
   ]
  },
  {
   "cell_type": "code",
   "execution_count": 25,
   "id": "482c1e12-5fc7-4e57-b539-91bdcae184b0",
   "metadata": {},
   "outputs": [
    {
     "name": "stdout",
     "output_type": "stream",
     "text": [
      " 4 8\n",
      " 3 1 2 3 4 1 1 2\n"
     ]
    },
    {
     "name": "stdout",
     "output_type": "stream",
     "text": [
      "5\n"
     ]
    }
   ],
   "source": [
    "#나의 풀이\n",
    "height, weight = map(int,input().split())\n",
    "list_ = list(map(int, input().split()))\n",
    "list2_ = list(0 for _ in range(weight))\n",
    "\n",
    "def left(i):\n",
    "    if i==0: return\n",
    "    result=list_[:i].index(max(list_[:i]))\n",
    "    for i in range(result+1,i):\n",
    "        list2_[i] = list_[result]-list_[i]\n",
    "    list2_[result]=-1\n",
    "    left(result)\n",
    "def right(i):\n",
    "    if i==weight: return\n",
    "    result=list_[i:].index(max(list_[i:]))\n",
    "    for j in range(i,result+i):\n",
    "        list2_[j] = list_[i+result]-list_[j]\n",
    "    list2_[i+result]=-1\n",
    "    right(i+result+1)\n",
    "\n",
    "max_ = list_.index(max(list_))\n",
    "list2_[max_]=-1\n",
    "left(max_)\n",
    "right(max_+1)\n",
    "\n",
    "sum=0\n",
    "for i in list2_:\n",
    "    if i!=-1:\n",
    "        sum += i\n",
    "print(sum)"
   ]
  },
  {
   "cell_type": "code",
   "execution_count": 9,
   "id": "591d02bd-c78a-40b3-97ba-61f10229ae44",
   "metadata": {},
   "outputs": [
    {
     "name": "stdout",
     "output_type": "stream",
     "text": [
      " 4 8\n",
      " 3 1 2 3 4 1 1 2\n"
     ]
    },
    {
     "name": "stdout",
     "output_type": "stream",
     "text": [
      "5\n"
     ]
    }
   ],
   "source": [
    "# 다른사람 풀이\n",
    "h, w = map(int, input().split())\n",
    "world = list(map(int, input().split()))\n",
    "\n",
    "ans = 0\n",
    "for i in range(1, w - 1):\n",
    "    left_max = max(world[:i])\n",
    "    right_max = max(world[i+1:])\n",
    "\n",
    "    compare = min(left_max, right_max)\n",
    "\n",
    "    if world[i] < compare:\n",
    "        ans += compare - world[i]\n",
    "\n",
    "print(ans)\n",
    "    "
   ]
  },
  {
   "cell_type": "code",
   "execution_count": 12,
   "id": "91ed979a-0f4c-4da9-b082-7165bbf62017",
   "metadata": {},
   "outputs": [
    {
     "name": "stdout",
     "output_type": "stream",
     "text": [
      " 4 8\n",
      " 3 1 2 3 4 1 1 2\n"
     ]
    },
    {
     "name": "stdout",
     "output_type": "stream",
     "text": [
      "[3, 1, 2, 3, 4, 1, 1, 2]\n",
      "[]\n",
      "0 3\n",
      "[3, 1, 2, 3, 4, 1, 1, 2]\n",
      "[0]\n",
      "1 1\n",
      "[3, 1, 2, 3, 4, 1, 1, 2]\n",
      "[0, 1]\n",
      "2 2\n",
      "1 2 1 2\n",
      "[3, 1, 2, 3, 4, 1, 1, 2]\n",
      "[0, 2]\n",
      "3 3\n",
      "2 2 1 4\n",
      "[3, 1, 2, 3, 4, 1, 1, 2]\n",
      "[0, 3]\n",
      "4 4\n",
      "3 2 0 4\n",
      "[3, 1, 2, 3, 4, 1, 1, 2]\n",
      "[4]\n",
      "5 1\n",
      "[3, 1, 2, 3, 4, 1, 1, 2]\n",
      "[4, 5]\n",
      "6 1\n",
      "[3, 1, 2, 3, 4, 1, 1, 2]\n",
      "[4, 5, 6]\n",
      "7 2\n",
      "1 2 0 4\n",
      "1 2 1 6\n",
      "6\n"
     ]
    }
   ],
   "source": [
    "_, _ = map(int, input().split())\n",
    "walls = list(map(int, input().split()))\n",
    "\n",
    "stack = []\n",
    "answer = 0\n",
    "\n",
    "for i, h in enumerate(walls):\n",
    "    print(walls)\n",
    "    print(stack)\n",
    "    print(i,h)\n",
    "    while stack and walls[stack[-1]] < h:\n",
    "        b = walls[stack.pop()]\n",
    "        if not stack:\n",
    "            break\n",
    "        d = i - stack[-1] - 1\n",
    "        wh = min(walls[stack[-1]], h) - b\n",
    "        answer += d * wh\n",
    "        print(b,d,wh,answer)\n",
    "    stack.append(i)\n",
    "    \n",
    "\n",
    "print(answer)"
   ]
  },
  {
   "cell_type": "markdown",
   "id": "cd874a76-447e-4510-a89e-e392dcdc9423",
   "metadata": {},
   "source": [
    "### 가르침(완전탐색)\n",
    "##### 백준 1062번(https://www.acmicpc.net/problem/14719)\n",
    "\n",
    "#### \n",
    "\n",
    "#### 알고리즘\n",
    "##### \n",
    "\n",
    "#### 입력 데이터\n",
    "##### 3 6\n",
    "##### antarctica\n",
    "##### antahellotica\n",
    "##### antacartica\n",
    "#### 출력 데이터\n",
    "##### 2"
   ]
  },
  {
   "cell_type": "code",
   "execution_count": 18,
   "id": "30b8d5e5",
   "metadata": {},
   "outputs": [
    {
     "name": "stdout",
     "output_type": "stream",
     "text": [
      "{'a': 0, 'b': 0, 'c': 0, 'd': 0, 'e': 0, 'f': 0, 'g': 0, 'h': 0, 'i': 0, 'j': 0, 'k': 0, 'l': 0, 'm': 0, 'n': 0, 'o': 0, 'p': 0, 'q': 0, 'r': 0, 's': 0, 't': 0, 'u': 0, 'v': 0, 'w': 0, 'x': 0, 'y': 0, 'z': 0}\n",
      "a\n",
      "s\n",
      "d\n",
      "q\n",
      "w\n",
      "a\n",
      "s\n",
      "f\n",
      "f\n",
      "s\n",
      "s\n",
      "a\n",
      "w\n",
      "q\n",
      "r\n",
      "w\n",
      "q\n",
      "{'a': 3, 's': 4, 'd': 1, 'q': 3, 'w': 3, 'f': 2, 'r': 1}\n"
     ]
    }
   ],
   "source": [
    "# 나의 풀이\n",
    "dict_ = {}\n",
    "alphabet_dict = {chr(i): 0 for i in range(ord('a'), ord('z')+1)}\n",
    "print(alphabet_dict)\n",
    "N,K = map(int, input().split())\n",
    "strings = []\n",
    "for i in range(N):\n",
    "    string = input()\n",
    "    strings.append(string)\n",
    "    for char in string:\n",
    "        print(char)\n",
    "        if char in dict_:\n",
    "            dict_[char] += 1\n",
    "        else:\n",
    "            dict_[char] = 1\n",
    "print(dict_)"
   ]
  },
  {
   "cell_type": "code",
   "execution_count": null,
   "id": "a5db6589",
   "metadata": {},
   "outputs": [],
   "source": []
  },
  {
   "cell_type": "code",
   "execution_count": null,
   "id": "5c8b9393",
   "metadata": {},
   "outputs": [],
   "source": []
  }
 ],
 "metadata": {
  "kernelspec": {
   "display_name": "Python 3 (ipykernel)",
   "language": "python",
   "name": "python3"
  },
  "language_info": {
   "codemirror_mode": {
    "name": "ipython",
    "version": 3
   },
   "file_extension": ".py",
   "mimetype": "text/x-python",
   "name": "python",
   "nbconvert_exporter": "python",
   "pygments_lexer": "ipython3",
   "version": "3.11.7"
  }
 },
 "nbformat": 4,
 "nbformat_minor": 5
}
