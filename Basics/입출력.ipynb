{
 "cells": [
  {
   "cell_type": "markdown",
   "id": "c39bf4fc-8c4c-482a-b00f-9f7d9e6c131b",
   "metadata": {},
   "source": [
    "# 기초문법 (입출력 편)"
   ]
  },
  {
   "cell_type": "markdown",
   "id": "e4752c92-844b-47e4-acb5-f4d2d9933af1",
   "metadata": {},
   "source": [
    "## 목차\n",
    " 1. 숫자 나누어 받기  ex) 1 5 6\n",
    " 2. 입력 빨리 받아 시간단축 ex) input()시간 단축\n",
    " 3. "
   ]
  },
  {
   "cell_type": "markdown",
   "id": "99f5b75e-eec0-4f8d-b0d0-b7c98f6f5b09",
   "metadata": {},
   "source": [
    "## 숫자 나누어 받기"
   ]
  },
  {
   "cell_type": "code",
   "execution_count": 2,
   "id": "375dc63b-e434-49c4-b63b-647d4a123299",
   "metadata": {},
   "outputs": [
    {
     "name": "stdin",
     "output_type": "stream",
     "text": [
      " 1 2\n"
     ]
    }
   ],
   "source": [
    "a, b = map(int, input().split())"
   ]
  },
  {
   "cell_type": "code",
   "execution_count": 3,
   "id": "44611fe7-e4e1-4951-addc-2db11c2d3bee",
   "metadata": {},
   "outputs": [
    {
     "name": "stdout",
     "output_type": "stream",
     "text": [
      "1 2\n"
     ]
    }
   ],
   "source": [
    "print(a,b)\n"
   ]
  },
  {
   "cell_type": "markdown",
   "id": "17335948-bdec-4f2c-bcf8-80479df719b1",
   "metadata": {},
   "source": [
    "# 입력 빨리받기\n",
    "* sys.stdout.write는 print함수와 다르게 문자열만 출력가능 -> str로 변환필수"
   ]
  },
  {
   "cell_type": "code",
   "execution_count": 13,
   "id": "62672ef0-aa7e-4fa2-bab6-ed599d687d53",
   "metadata": {},
   "outputs": [
    {
     "name": "stdin",
     "output_type": "stream",
     "text": [
      " 5\n"
     ]
    },
    {
     "name": "stdout",
     "output_type": "stream",
     "text": [
      "5"
     ]
    },
    {
     "data": {
      "text/plain": [
       "1"
      ]
     },
     "execution_count": 13,
     "metadata": {},
     "output_type": "execute_result"
    }
   ],
   "source": [
    "import sys\n",
    "N = sys.stdin.readline()\n",
    "N = input()\n",
    "sys.stdout.write(str(N))"
   ]
  },
  {
   "cell_type": "raw",
   "id": "7c378fa8-8676-4d3e-a389-f8b243ef8a9b",
   "metadata": {},
   "source": [
    "맨위에 한번 input과 print를 정의하면 그이후 입출력 가속함수를 편하게 사용가능"
   ]
  },
  {
   "cell_type": "code",
   "execution_count": 22,
   "id": "5f668eb1-0275-4320-bdef-446f50a10879",
   "metadata": {},
   "outputs": [
    {
     "data": {
      "text/plain": [
       "0"
      ]
     },
     "execution_count": 22,
     "metadata": {},
     "output_type": "execute_result"
    }
   ],
   "source": [
    "from sys import stdin, stdout\n",
    "input = stdin.readline\n",
    "print = stdout.write\n",
    "\n",
    "n = input()\n",
    "print(n)"
   ]
  },
  {
   "cell_type": "markdown",
   "id": "3971300a-2dc4-4772-8e92-7ec1b91d4e1d",
   "metadata": {},
   "source": [
    "## 배열 입력받기\n",
    "\n",
    "### 입력데이터 예시"
   ]
  },
  {
   "cell_type": "raw",
   "id": "92281692-69c4-45d2-bf32-3e5c1afa2c81",
   "metadata": {},
   "source": [
    "3\n",
    "1 2 3\n",
    "4 5 6\n",
    "7 8 9"
   ]
  },
  {
   "cell_type": "code",
   "execution_count": 3,
   "id": "effc0467-72df-4025-be24-c77924db184a",
   "metadata": {},
   "outputs": [
    {
     "name": "stdin",
     "output_type": "stream",
     "text": [
      " 3\n",
      " 1 2 3\n",
      " 4 5 6\n",
      " 7 8 9\n"
     ]
    },
    {
     "data": {
      "text/plain": [
       "[[1, 2, 3], [4, 5, 6], [7, 8, 9]]"
      ]
     },
     "execution_count": 3,
     "metadata": {},
     "output_type": "execute_result"
    }
   ],
   "source": [
    "MAP = [list(map(int, input().split())) for _ in range(int(input()))]\n",
    "MAP"
   ]
  },
  {
   "cell_type": "markdown",
   "id": "969c2006-5a06-4da0-9b6e-66eaa60cbb74",
   "metadata": {},
   "source": [
    "#### 나쁜코드 예시"
   ]
  },
  {
   "cell_type": "code",
   "execution_count": 4,
   "id": "3526fd40-3864-4851-b543-ef40a5135bbe",
   "metadata": {},
   "outputs": [
    {
     "name": "stdin",
     "output_type": "stream",
     "text": [
      " 3\n",
      " 1 2 3\n",
      " 4 5 6\n",
      " 7 8 9\n"
     ]
    }
   ],
   "source": [
    "for i in range(int(input())):\n",
    "    inputStr =input()\n",
    "    arr = list(inputStr)\n",
    "    MAP.append(arr)"
   ]
  },
  {
   "cell_type": "markdown",
   "id": "27a1ea78-e0e1-41ab-8e3e-cab70ba98daf",
   "metadata": {},
   "source": [
    "### 정수와 배열이 같은 줄에 들어오는 경우\n",
    "### 입력데이터 예시(한줄씩만 입력가능)"
   ]
  },
  {
   "cell_type": "raw",
   "id": "2e879ee3-198e-4f70-94e4-4db2b313e3eb",
   "metadata": {},
   "source": [
    "4 10 20 30 40\n",
    "3 7 5 12\n",
    "3 124 15 25"
   ]
  },
  {
   "cell_type": "code",
   "execution_count": 2,
   "id": "fc63d7b1-4994-4917-af6d-38b53a844632",
   "metadata": {},
   "outputs": [
    {
     "name": "stdin",
     "output_type": "stream",
     "text": [
      " 4 10 20 30 40 3 7 5 12\n"
     ]
    },
    {
     "name": "stdout",
     "output_type": "stream",
     "text": [
      "4\n",
      "[10, 20, 30, 40, 3, 7, 5, 12]\n"
     ]
    }
   ],
   "source": [
    "N, *arr = map(int, input().split())\n",
    "print(N)\n",
    "print(arr)"
   ]
  },
  {
   "cell_type": "markdown",
   "id": "91d560a5-3dfc-4059-9150-afe278afadcb",
   "metadata": {},
   "source": [
    "### 문자열을 한 글자씩 배열에 저장할때\n",
    "#### 입력데이터 예시"
   ]
  },
  {
   "cell_type": "raw",
   "id": "ce158c43-54dd-4465-a0cc-9fe1f612b5f0",
   "metadata": {},
   "source": [
    "3\n",
    "AAAA\n",
    "ABCA\n",
    "AAAA"
   ]
  },
  {
   "cell_type": "code",
   "execution_count": 11,
   "id": "78becc5a-6658-4662-8f64-a4b5478746ef",
   "metadata": {},
   "outputs": [
    {
     "name": "stdin",
     "output_type": "stream",
     "text": [
      " 1\n",
      " AAAA\n"
     ]
    },
    {
     "name": "stdout",
     "output_type": "stream",
     "text": [
      "[['A', 'A', 'A', 'A']]\n"
     ]
    }
   ],
   "source": [
    "# list를 이용하면 입력받은 문자열들을 글자로 잘라서 저장해준다\n",
    "MAP = [list(input()) for _ in range(int(input()))]\n",
    "print(MAP)"
   ]
  },
  {
   "cell_type": "markdown",
   "id": "a5f614e0-ffc2-463c-86ba-26f9b82166bb",
   "metadata": {},
   "source": [
    "## 배열출력"
   ]
  },
  {
   "cell_type": "markdown",
   "id": "8b5cfd68-dfbe-4de0-904c-fd6c9703784c",
   "metadata": {},
   "source": [
    "#### 배열을 공백없이 연결하여 출력하는법"
   ]
  },
  {
   "cell_type": "code",
   "execution_count": 21,
   "id": "c85f7fcf-7289-4c3c-aeb8-39cda44b3c5a",
   "metadata": {},
   "outputs": [
    {
     "name": "stdout",
     "output_type": "stream",
     "text": [
      "1234\n"
     ]
    }
   ],
   "source": [
    "#join 함수이용 \n",
    "#'구분자'.join(리스트) : 리스트값을 구분자로 이어주면서 출력\n",
    "arr = [1, 2, 3, 4]\n",
    "print(''.join(map(str, arr)))"
   ]
  },
  {
   "cell_type": "markdown",
   "id": "2a505433-9153-4a28-a82b-741469eddb65",
   "metadata": {},
   "source": [
    "#### 배열 출력시 공백을 두고 '[]'문자는 없애면서 출력하기"
   ]
  },
  {
   "cell_type": "code",
   "execution_count": 24,
   "id": "ae38680f-b65d-4c4c-8813-50ddd46b0cba",
   "metadata": {},
   "outputs": [
    {
     "name": "stdout",
     "output_type": "stream",
     "text": [
      "1 2 3 4 5 6\n",
      "1 2 3 4 5 6\n"
     ]
    }
   ],
   "source": [
    "arr = [1,2,3,4,5,6]\n",
    "print(*arr) #좋은예시\n",
    "print(' '.join(map(str, arr))) #나쁜예시"
   ]
  },
  {
   "cell_type": "code",
   "execution_count": null,
   "id": "89f5e90d-1ceb-4613-9edc-d99379f821a8",
   "metadata": {},
   "outputs": [],
   "source": []
  }
 ],
 "metadata": {
  "kernelspec": {
   "display_name": "Python 3 (ipykernel)",
   "language": "python",
   "name": "python3"
  },
  "language_info": {
   "codemirror_mode": {
    "name": "ipython",
    "version": 3
   },
   "file_extension": ".py",
   "mimetype": "text/x-python",
   "name": "python",
   "nbconvert_exporter": "python",
   "pygments_lexer": "ipython3",
   "version": "3.10.11"
  }
 },
 "nbformat": 4,
 "nbformat_minor": 5
}
