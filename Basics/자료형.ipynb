{
 "cells": [
  {
   "cell_type": "markdown",
   "id": "a7729339-c2e9-400f-afb6-ac5039dd98e8",
   "metadata": {},
   "source": [
    "# 기초문법 (자료형 편)"
   ]
  },
  {
   "cell_type": "markdown",
   "id": "9a268491-ba5e-4247-85dd-9017b325b19b",
   "metadata": {},
   "source": [
    "## 목차\n",
    " 1. \n",
    " 2. "
   ]
  },
  {
   "cell_type": "markdown",
   "id": "3d3b62b7-6c09-40d5-a4ce-4afab16e82c2",
   "metadata": {},
   "source": [
    "### 정수\n",
    "#### 최대 최소 구하기"
   ]
  },
  {
   "cell_type": "code",
   "execution_count": 3,
   "id": "a1a5a264-5dc8-4366-b042-1e89e5e72bfc",
   "metadata": {},
   "outputs": [
    {
     "name": "stdout",
     "output_type": "stream",
     "text": [
      "5\n"
     ]
    }
   ],
   "source": [
    "#최소구하기\n",
    "import sys\n",
    "arr = [5,13,6,234,523]\n",
    "ans = sys.maxsize #ans = 99999도 일반적으로 가능하지만 sys.maxsize를 사용하면 제일 큰수를 구할수있다. \n",
    "for num in arr:\n",
    "    if ans > num:\n",
    "        ans = num\n",
    "print(ans)"
   ]
  },
  {
   "cell_type": "markdown",
   "id": "b9067987-e4dc-4f8b-9a04-ef6abf1720ed",
   "metadata": {},
   "source": [
    "### 진법계산"
   ]
  },
  {
   "cell_type": "code",
   "execution_count": 6,
   "id": "882dec30-0239-433a-8840-e67f190be33e",
   "metadata": {},
   "outputs": [
    {
     "name": "stdout",
     "output_type": "stream",
     "text": [
      "0b101010 0o52 0x2a\n",
      "42 42 42\n"
     ]
    }
   ],
   "source": [
    "a=bin(42)#2진법\n",
    "b=oct(42)#8진법\n",
    "c=hex(42)#16진법\n",
    "print(a,b,c)\n",
    "a= int(a,2)\n",
    "b = int(b,8)\n",
    "c = int(c,16)\n",
    "print(a,b,c)"
   ]
  },
  {
   "cell_type": "markdown",
   "id": "af58e8ff-5716-4ff0-8abe-faf9bcdd7d10",
   "metadata": {},
   "source": [
    "#### 진법 더하기\n",
    "##### 10진수로 더한후 변환"
   ]
  },
  {
   "cell_type": "code",
   "execution_count": 28,
   "id": "5318a4d3-e64b-45ea-9758-fd1468706e98",
   "metadata": {},
   "outputs": [
    {
     "name": "stdout",
     "output_type": "stream",
     "text": [
      "1011110\n"
     ]
    }
   ],
   "source": [
    "a=bin(42)\n",
    "b=bin(52)\n",
    "print(bin(int(a,2)+int(b,2))[2:])"
   ]
  },
  {
   "cell_type": "markdown",
   "id": "f6ad16ab-d871-4d17-bca9-261a522c7993",
   "metadata": {},
   "source": [
    "### 문자열\n",
    "#### 문자열 거꾸로 만들기\n",
    "###### 팰린드룸 문자 확인 방법(기러기, 우영우 등등)"
   ]
  },
  {
   "cell_type": "code",
   "execution_count": 29,
   "id": "3c1eca93-6171-4020-9448-da09b4623ad7",
   "metadata": {},
   "outputs": [
    {
     "data": {
      "text/plain": [
       "'DCBA'"
      ]
     },
     "execution_count": 29,
     "metadata": {},
     "output_type": "execute_result"
    }
   ],
   "source": [
    "alph= \"ABCD\"\n",
    "alph[::-1]"
   ]
  },
  {
   "cell_type": "markdown",
   "id": "ee450aa0-fa75-4e82-b14e-6b9f73f37c7e",
   "metadata": {},
   "source": [
    "#### 문자열 아스키코드 변환"
   ]
  },
  {
   "cell_type": "code",
   "execution_count": 33,
   "id": "8e959c42-f40c-4036-abc2-78b11b8139da",
   "metadata": {},
   "outputs": [
    {
     "data": {
      "text/plain": [
       "'ㅎ'"
      ]
     },
     "execution_count": 33,
     "metadata": {},
     "output_type": "execute_result"
    }
   ],
   "source": [
    "ord('ㅎ') # 문자 -> 아스키코드\n",
    "chr(12622) # 아스키코드 -> 문자"
   ]
  },
  {
   "cell_type": "markdown",
   "id": "771974a2-e143-47ce-8b9b-0c0c22ef86a0",
   "metadata": {},
   "source": [
    "### 배열\n",
    "#### 배열 초기화\n",
    "###### 그래프 문제 해결\n",
    "##### 입력 데이터(배열 사이즈-> 가로 세로)"
   ]
  },
  {
   "cell_type": "raw",
   "id": "701d995a-9057-4d93-863e-3f95bf8a293d",
   "metadata": {},
   "source": [
    "3 5"
   ]
  },
  {
   "cell_type": "code",
   "execution_count": 39,
   "id": "92a9ace6-08f8-4d01-a49f-9c0347b160b3",
   "metadata": {},
   "outputs": [
    {
     "data": {
      "text/plain": [
       "[0, 0, 0]"
      ]
     },
     "execution_count": 39,
     "metadata": {},
     "output_type": "execute_result"
    }
   ],
   "source": [
    "arr = [0]*3 # 배열 선언법\n",
    "arr "
   ]
  },
  {
   "cell_type": "code",
   "execution_count": 36,
   "id": "59fcb809-8008-4ab7-995f-e1eb9304e30d",
   "metadata": {},
   "outputs": [
    {
     "name": "stdin",
     "output_type": "stream",
     "text": [
      " 3 5\n"
     ]
    },
    {
     "data": {
      "text/plain": [
       "[[0, 0, 0], [0, 0, 0], [0, 0, 0], [0, 0, 0], [0, 0, 0]]"
      ]
     },
     "execution_count": 36,
     "metadata": {},
     "output_type": "execute_result"
    }
   ],
   "source": [
    "N, M = map(int, input().split())\n",
    "arr = [[0] * N for _ in range(M)]\n",
    "arr"
   ]
  },
  {
   "cell_type": "markdown",
   "id": "123449ef-de01-4a48-96ff-9c3fb74844f0",
   "metadata": {},
   "source": [
    "#### 배열 원소를 거꾸로"
   ]
  },
  {
   "cell_type": "code",
   "execution_count": 41,
   "id": "197222e3-d582-42d1-8440-52a96a771a72",
   "metadata": {},
   "outputs": [
    {
     "data": {
      "text/plain": [
       "[2, 123, 99, 7, 5, 1]"
      ]
     },
     "execution_count": 41,
     "metadata": {},
     "output_type": "execute_result"
    }
   ],
   "source": [
    "arr = [1,5,7,99,123,2]\n",
    "arr.reverse()\n",
    "arr"
   ]
  },
  {
   "cell_type": "markdown",
   "id": "29a2f9e4-454f-4142-ab3b-3dedd4df5ca9",
   "metadata": {},
   "source": [
    "#### 배열 원소 갯수"
   ]
  },
  {
   "cell_type": "code",
   "execution_count": 54,
   "id": "05d532c1-608f-4379-846e-d40c1a2978ab",
   "metadata": {},
   "outputs": [
    {
     "data": {
      "text/plain": [
       "6"
      ]
     },
     "execution_count": 54,
     "metadata": {},
     "output_type": "execute_result"
    }
   ],
   "source": [
    "arr=[1,52,6,2,4,6]\n",
    "arr.count(6)#특정값(6)의 갯수 구하기\n",
    "len(arr)# 전체 요소 개수"
   ]
  },
  {
   "cell_type": "markdown",
   "id": "7b3954ab-534d-49a8-abf7-a1453a1acf61",
   "metadata": {},
   "source": [
    "#### 원소 중복 제거"
   ]
  },
  {
   "cell_type": "code",
   "execution_count": 5,
   "id": "3d9e06cf-5e4d-4dd1-b406-c0370dee293e",
   "metadata": {},
   "outputs": [
    {
     "name": "stdout",
     "output_type": "stream",
     "text": [
      "[(1,), (1, 2)]\n"
     ]
    }
   ],
   "source": [
    "# 1차원 배열\n",
    "alpha = ['a', 'b', 'c', 'd', 'e', 'f', 'g', 'a', 'b', 'c', 'd' ] \n",
    "#print(set(alpha))\n",
    "alpha =list(set(alpha))\n",
    "alpha\n",
    "\n",
    "# 2차원 배열\n",
    "lst = [[1,2],[1,2],[1]]\n",
    "print(list(set(map(tuple, lst))))\n"
   ]
  },
  {
   "cell_type": "markdown",
   "id": "73278bf1-f2a7-4823-aecb-011e5ed88f79",
   "metadata": {},
   "source": [
    "#### 배열 정렬"
   ]
  },
  {
   "cell_type": "code",
   "execution_count": 12,
   "id": "75b0f799-c36a-42e3-bce5-df0644e16516",
   "metadata": {},
   "outputs": [
    {
     "name": "stdout",
     "output_type": "stream",
     "text": [
      "['one', 'two', 'four', 'three']\n"
     ]
    },
    {
     "data": {
      "text/plain": [
       "[52, 6, 6, 4, 2, 1]"
      ]
     },
     "execution_count": 12,
     "metadata": {},
     "output_type": "execute_result"
    }
   ],
   "source": [
    "arr=[1,52,6,2,4,6]\n",
    "arr.sort()#내림차순\n",
    "arr.sort(reverse=True)#오름차순\n",
    "lst = [\"one\", \"two\", \"three\", \"four\"]\n",
    "lst.sort(key=len)#길이순서에 따라 정렬\n",
    "print(lst)\n",
    "arr"
   ]
  },
  {
   "cell_type": "markdown",
   "id": "c0841845-5d58-4313-991f-7419fda03fdc",
   "metadata": {},
   "source": [
    "##### 2차원 배열 정렬 -> [0]이 같을때 [0][0] 비교\n",
    "##### lambda 표현식 이용\n",
    "###### lambda란? lambda 매개변수 : 표현식(매개변수인자들)\n",
    "###### => 이름없이 사용 할 수 있는 함수(간단하다) ex)lambda x, y, z : x+y+z(3,4,9)\n"
   ]
  },
  {
   "cell_type": "code",
   "execution_count": 21,
   "id": "6379ed38-5bf9-46d1-96f6-6667cd56d7cd",
   "metadata": {},
   "outputs": [
    {
     "name": "stdout",
     "output_type": "stream",
     "text": [
      "7\n",
      "15\n",
      "105\n"
     ]
    }
   ],
   "source": [
    "#lambda 예제\n",
    "add = lambda x,y : x+y #add에 함수 넣음(매개변수는 실행할때 씀)\n",
    "asd=[1,2,3]\n",
    "print(add(3,4))\n",
    "lamdas = [lambda x: x+10, lambda x: x+100]#함수자체가 리스트로 저장됨\n",
    "print(lamdas[0](5))\n",
    "print(lamdas[1](5))"
   ]
  },
  {
   "cell_type": "code",
   "execution_count": 24,
   "id": "bcd4bd74-8de0-4b04-af77-a9e1b64d9de7",
   "metadata": {},
   "outputs": [
    {
     "data": {
      "text/plain": [
       "[[1, 242, 252], [45, 55, 66, 3], [2, 2], [5, 2, 3]]"
      ]
     },
     "execution_count": 24,
     "metadata": {},
     "output_type": "execute_result"
    }
   ],
   "source": [
    "arr = [[1,242,252],[5,2,3],[45,55,66,3],[2,2]]\n",
    "arr.sort(key = lambda x : (-x[1], x[0]))#lambda X가 얻는 파라미터는 2차원 배열중 arr[] 튜플값이다\n",
    "# 매개변수를 튜플로 만드면 처음 매개변수가 같다면 그 다음 매개변수을 이용하여 정렬\n",
    "# 매개변수가 -x[1]에서 -는 내림차순을 뜻하고 x는 오름차순이다\n",
    "arr"
   ]
  },
  {
   "cell_type": "markdown",
   "id": "fc9064fc-08bd-4f95-bd84-fc510163ab44",
   "metadata": {},
   "source": [
    "### 삼항 연산자\n",
    "#### [참일때 연산값] if 조건문 else [거짓일때 연산값]"
   ]
  },
  {
   "cell_type": "code",
   "execution_count": null,
   "id": "e5c9f266-b250-4265-821d-dbf7f701a3ba",
   "metadata": {},
   "outputs": [],
   "source": [
    "res = a if a>b else b"
   ]
  }
 ],
 "metadata": {
  "kernelspec": {
   "display_name": "Python 3 (ipykernel)",
   "language": "python",
   "name": "python3"
  },
  "language_info": {
   "codemirror_mode": {
    "name": "ipython",
    "version": 3
   },
   "file_extension": ".py",
   "mimetype": "text/x-python",
   "name": "python",
   "nbconvert_exporter": "python",
   "pygments_lexer": "ipython3",
   "version": "3.10.11"
  }
 },
 "nbformat": 4,
 "nbformat_minor": 5
}
