{
 "cells": [
  {
   "cell_type": "markdown",
   "id": "71cc855c-99c7-447c-ba98-8fd720652335",
   "metadata": {},
   "source": [
    "# 기초문법 (기본 자료구조 편)"
   ]
  },
  {
   "cell_type": "markdown",
   "id": "60ba21f2-38d5-4578-89d4-a035037a3b6c",
   "metadata": {},
   "source": [
    "### 순열, 조합\n",
    "#### 순열 일반적 방법(기본)\n",
    "###### *순열: 중복없이 순서에 상관있게 선택하는 혹은 나열하는 것을 순열 -> (A,B)와 (B,A)는 다른것이다.\n",
    "###### *조합: 순열과 같이 중복없이 나열하지만 순서를 아무렇게나 해도 상관없다 -> (A,B)와 (B,A)는 같은것이다"
   ]
  },
  {
   "cell_type": "code",
   "execution_count": 1,
   "id": "63e959f5-fac1-4204-935f-90795926df22",
   "metadata": {},
   "outputs": [
    {
     "name": "stdout",
     "output_type": "stream",
     "text": [
      "0 1\n",
      "0 2\n",
      "0 3\n",
      "1 2\n",
      "1 3\n",
      "2 3\n"
     ]
    }
   ],
   "source": [
    "N=4\n",
    "for i in range(0, N-1):\n",
    "    for j in range(i+1, N):\n",
    "        print(i, j)"
   ]
  },
  {
   "cell_type": "markdown",
   "id": "fa471547-c3c2-48c8-97f6-84704fa2a01a",
   "metadata": {},
   "source": [
    "#### itertools를 사용한 순열, 조합구하기"
   ]
  },
  {
   "cell_type": "code",
   "execution_count": 2,
   "id": "6e754ad7-625a-4db7-8682-b0f23281f56e",
   "metadata": {},
   "outputs": [
    {
     "name": "stdout",
     "output_type": "stream",
     "text": [
      "[('1', 2, 3), ('1', 2, 4), ('1', 2, 5), ('1', 3, 4), ('1', 3, 5), ('1', 4, 5), (2, 3, 4), (2, 3, 5), (2, 4, 5), (3, 4, 5)]\n",
      "[('1', 2, 3), ('1', 2, 4), ('1', 2, 5), ('1', 3, 2), ('1', 3, 4), ('1', 3, 5), ('1', 4, 2), ('1', 4, 3), ('1', 4, 5), ('1', 5, 2), ('1', 5, 3), ('1', 5, 4), (2, '1', 3), (2, '1', 4), (2, '1', 5), (2, 3, '1'), (2, 3, 4), (2, 3, 5), (2, 4, '1'), (2, 4, 3), (2, 4, 5), (2, 5, '1'), (2, 5, 3), (2, 5, 4), (3, '1', 2), (3, '1', 4), (3, '1', 5), (3, 2, '1'), (3, 2, 4), (3, 2, 5), (3, 4, '1'), (3, 4, 2), (3, 4, 5), (3, 5, '1'), (3, 5, 2), (3, 5, 4), (4, '1', 2), (4, '1', 3), (4, '1', 5), (4, 2, '1'), (4, 2, 3), (4, 2, 5), (4, 3, '1'), (4, 3, 2), (4, 3, 5), (4, 5, '1'), (4, 5, 2), (4, 5, 3), (5, '1', 2), (5, '1', 3), (5, '1', 4), (5, 2, '1'), (5, 2, 3), (5, 2, 4), (5, 3, '1'), (5, 3, 2), (5, 3, 4), (5, 4, '1'), (5, 4, 2), (5, 4, 3)]\n"
     ]
    }
   ],
   "source": [
    "from itertools import combinations#요소의 순서에는 상관없다(조합)\n",
    "from itertools import permutations#요소의 순서에 상관있다(순열)\n",
    "print(list(combinations([str(1),2,3,4,5],3)))\n",
    "print(list(permutations([str(1),2,3,4,5],3)))"
   ]
  },
  {
   "cell_type": "markdown",
   "id": "4e207586-cb80-44c2-8800-9442212c665b",
   "metadata": {},
   "source": [
    "##### 중복 순열: [1,2,3,4],에서 3개로 순열을만들때 같은원소가 중복해서 선택되도 괜찮다 EX) (1,1,1)"
   ]
  },
  {
   "cell_type": "code",
   "execution_count": 4,
   "id": "e566afd8-3f25-44da-9dfa-4251b7be89e8",
   "metadata": {},
   "outputs": [
    {
     "name": "stdout",
     "output_type": "stream",
     "text": [
      "[(1, 1), (1, 2), (1, 3), (1, 4), (1, 5), (1, 2), (2, 1), (2, 2), (2, 3), (2, 4), (2, 5), (2, 2), (3, 1), (3, 2), (3, 3), (3, 4), (3, 5), (3, 2), (4, 1), (4, 2), (4, 3), (4, 4), (4, 5), (4, 2), (5, 1), (5, 2), (5, 3), (5, 4), (5, 5), (5, 2), (2, 1), (2, 2), (2, 3), (2, 4), (2, 5), (2, 2)]\n",
      "[(1, 1, 1), (1, 1, 2), (1, 1, 3), (1, 1, 4), (1, 1, 5), (1, 2, 2), (1, 2, 3), (1, 2, 4), (1, 2, 5), (1, 3, 3), (1, 3, 4), (1, 3, 5), (1, 4, 4), (1, 4, 5), (1, 5, 5), (2, 2, 2), (2, 2, 3), (2, 2, 4), (2, 2, 5), (2, 3, 3), (2, 3, 4), (2, 3, 5), (2, 4, 4), (2, 4, 5), (2, 5, 5), (3, 3, 3), (3, 3, 4), (3, 3, 5), (3, 4, 4), (3, 4, 5), (3, 5, 5), (4, 4, 4), (4, 4, 5), (4, 5, 5), (5, 5, 5)]\n"
     ]
    }
   ],
   "source": [
    "from itertools import product # 중복 순열\n",
    "from itertools import combinations_with_replacement # 중복 조합\n",
    "print(list(product([1,2,3,4,5,2],repeat=2)))\n",
    "print(list(combinations_with_replacement([1,2,3,4,5],3)))"
   ]
  },
  {
   "cell_type": "markdown",
   "id": "d0376113-ceb7-49b8-9553-4ad2573eaecf",
   "metadata": {},
   "source": [
    "### 빈도 계산(Couter)\n",
    "#### 평균과 최빈값(가장 많이 등장한 숫자) 구하기"
   ]
  },
  {
   "cell_type": "code",
   "execution_count": 19,
   "id": "aef8dbef-2da6-4443-a7f6-5e4b33694e70",
   "metadata": {},
   "outputs": [
    {
     "name": "stdout",
     "output_type": "stream",
     "text": [
      "37\n",
      "[(30, 3), (40, 2), (60, 2), (10, 1), (20, 1), (50, 1)]\n"
     ]
    }
   ],
   "source": [
    "from collections import Counter\n",
    "arr =[10,40,30, 60,30, 20,60,30,40,50]\n",
    "#arr = [int(input()) for _ in range(10)]\n",
    "val = Counter(arr).most_common() #최빈값 구하기\n",
    "print(sum(arr) // 10) # // 연산자는 나눈후 정수 몫만 출력하는 연산자이다.\n",
    "print(val)#[(요소, 등장횟수)*] "
   ]
  },
  {
   "cell_type": "markdown",
   "id": "8fb9a513-d8f6-4f3b-97e4-2182688cc85d",
   "metadata": {},
   "source": [
    "### 힙\n",
    "#### 최소힙, 최대힙\n",
    "##### 힙: 우선순위가 가장 낮은 요소를 루트노드로 갖는 트리\n",
    "###### *최소힙:부모 노드의 키값이 자식 노드의 키값보다 항상 작은 힙\n",
    "###### *최대힙:부모 노드의 키값이 자식 노드의 키값보다 항상 큰 힙"
   ]
  },
  {
   "cell_type": "code",
   "execution_count": 31,
   "id": "d31c7131-65d7-4de6-ac4c-9d59195f9665",
   "metadata": {},
   "outputs": [
    {
     "name": "stdout",
     "output_type": "stream",
     "text": [
      "[1, 3, 10, 5, 8]\n",
      "[3, 5, 10, 8]\n",
      "[5, 8, 10]\n",
      "[8, 10]\n",
      "[10]\n"
     ]
    }
   ],
   "source": [
    "import heapq # 기본적으로 최소힙\n",
    "\n",
    "heap=[] # 빈 힙생성\n",
    "heapq.heappush(heap, 3) # 힙에 3원소추가\n",
    "heapq.heappush(heap, 1)\n",
    "heapq.heappush(heap, 10)\n",
    "heapq.heappush(heap, 5)\n",
    "heapq.heappush(heap, 8)\n",
    "print(heap)\n",
    "\n",
    "heapq.heappop(heap) # 힙에 원소 제거\n",
    "print(heap)\n",
    "heapq.heappop(heap) # 힙에 원소 제거\n",
    "print(heap)\n",
    "heapq.heappop(heap) # 힙에 원소 제거\n",
    "print(heap)\n",
    "heapq.heappop(heap) # 힙에 원소 제거\n",
    "print(heap)"
   ]
  },
  {
   "cell_type": "markdown",
   "id": "f6595075-cd22-49fa-b77e-26447d1cecc0",
   "metadata": {},
   "source": [
    "### 최대힙 구현"
   ]
  },
  {
   "cell_type": "code",
   "execution_count": 2,
   "id": "71fcb293-d676-498c-82c0-4cb244ed3fde",
   "metadata": {},
   "outputs": [
    {
     "name": "stdout",
     "output_type": "stream",
     "text": [
      " 1\n",
      " 2\n",
      " 3\n",
      " 2\n",
      " 1\n"
     ]
    },
    {
     "name": "stdout",
     "output_type": "stream",
     "text": [
      "3\n"
     ]
    }
   ],
   "source": [
    "import sys, heapq\n",
    "heap = []\n",
    "\n",
    "for i in range(5):#최대 힙에다 5개원소 입력\n",
    "    N = int(input()) * -1\n",
    "    heapq.heappush(heap, N) # N에다 -를 곱하여 최대힙으로 바꾸었다.\n",
    "\n",
    "print(heapq.heappop(heap) * -1) # 힙을 pop하는 과정이다, 출력할때 -를 곱하여 정상적인 출력을 유도한다."
   ]
  },
  {
   "cell_type": "markdown",
   "id": "a7305179-25d0-40d9-8fd0-4ba46d1f8001",
   "metadata": {},
   "source": [
    "### 덱(double-ended queue)\n",
    "#### = 양방향에서 데이터를 처리할수 있는 큐"
   ]
  },
  {
   "cell_type": "code",
   "execution_count": 13,
   "id": "1a62eaaf-f4fc-405d-b4d7-94fa401a91ff",
   "metadata": {},
   "outputs": [
    {
     "name": "stdout",
     "output_type": "stream",
     "text": [
      "deque([1, 2, 3, 4])\n",
      "-10\n",
      "10\n",
      "deque([1, 2, 3, 4])\n",
      "deque([4, 1, 2, 3])\n",
      "deque([3, 4, 1, 2])\n"
     ]
    }
   ],
   "source": [
    "from collections import deque\n",
    "deq1 = deque() # 덱 초기화\n",
    "deq = deque([i for i in range(1,5)]) # 덱을 초기화하는 동시에 [1,2,3,4]요소 저장\n",
    "print(deq)\n",
    "deq.appendleft(10) #왼족입구에 요소 10 저장\n",
    "deq.append(-10) # 오른쪽에 요소 -10 저장\n",
    "print(deq.pop())# 오른쪽 요소 팝\n",
    "print(deq.popleft())# 왼쪽 요소 팝\n",
    "\n",
    "print(deq)\n",
    "deq.rotate(-3) # 덱 shift연산, 인자로 들어간 값만큼 오른쪽으로 한칸씩 밀림, 단. 음수이면 왼쪽으로 밀림\n",
    "print(deq)\n",
    "deq.rotate()\n",
    "print(deq)"
   ]
  },
  {
   "cell_type": "markdown",
   "id": "a6e813ed-9d90-4568-922a-9e6495ae0969",
   "metadata": {},
   "source": [
    "### 우선순위 큐\n",
    "#### = 힙과 비슷하게 우선순위가 높은 요소를 먼저 출력하는 큐이다. 단, 우선순위 큐가 개념이라고하면 힙은 트리로 구현한 방식이라고 보면된다."
   ]
  },
  {
   "cell_type": "code",
   "execution_count": 19,
   "id": "df07493c-d157-492d-8a6e-a44ae9f3e8f6",
   "metadata": {},
   "outputs": [
    {
     "name": "stdout",
     "output_type": "stream",
     "text": [
      "2 10 4 "
     ]
    },
    {
     "data": {
      "text/plain": [
       "2"
      ]
     },
     "execution_count": 19,
     "metadata": {},
     "output_type": "execute_result"
    }
   ],
   "source": [
    "from queue import PriorityQueue # python에선 우선순위 큐 라이브러리가 따로 있지만 코드를 봐보면 heapq을 사용하여 구현하였다.\n",
    "que = PriorityQueue()\n",
    "que.put(4)\n",
    "que.put(10)\n",
    "que.put(2)# 우선순위 큐의 삽입\n",
    "\n",
    "for i in range(len(que.queue)):\n",
    "    print(que.queue[i], end=\" \") # pop이 아닌 원소접근으로 이용\n",
    "\n",
    "que.get()# 우선순위 큐의 팝"
   ]
  },
  {
   "cell_type": "markdown",
   "id": "227ec1d5-cdcd-4dad-90c9-18fd98435573",
   "metadata": {},
   "source": [
    "### python 실행시간 측정법"
   ]
  },
  {
   "cell_type": "code",
   "execution_count": 25,
   "id": "8a045b35-816d-4c6f-9a3a-6c1359a523e4",
   "metadata": {},
   "outputs": [
    {
     "name": "stdout",
     "output_type": "stream",
     "text": [
      "some_func()의 실행 시간 : 168(ms)\n"
     ]
    }
   ],
   "source": [
    "import time\n",
    "import math\n",
    "\n",
    "def some_func():\n",
    "    math.factorial(100000)\n",
    "    \n",
    "start_time = int(round(time.time() *1000))\n",
    "some_func()\n",
    "end_time = int(round(time.time()*1000))\n",
    "print('some_func()의 실행 시간 : %d(ms)' % (end_time-start_time)) # 1초 = 100ms"
   ]
  },
  {
   "cell_type": "code",
   "execution_count": null,
   "id": "7d07ffa7-956e-46f0-899e-fa636fadbf37",
   "metadata": {},
   "outputs": [],
   "source": []
  }
 ],
 "metadata": {
  "kernelspec": {
   "display_name": "Python 3 (ipykernel)",
   "language": "python",
   "name": "python3"
  },
  "language_info": {
   "codemirror_mode": {
    "name": "ipython",
    "version": 3
   },
   "file_extension": ".py",
   "mimetype": "text/x-python",
   "name": "python",
   "nbconvert_exporter": "python",
   "pygments_lexer": "ipython3",
   "version": "3.11.7"
  }
 },
 "nbformat": 4,
 "nbformat_minor": 5
}
