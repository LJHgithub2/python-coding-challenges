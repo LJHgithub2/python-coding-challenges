{
 "cells": [
  {
   "cell_type": "markdown",
   "id": "8cc66136-d65d-4332-b39b-b8e9f2f175f4",
   "metadata": {},
   "source": [
    "# 탐색 알고리즘\n",
    "### 이진 탐색\n",
    "#### = 탐색할 데이터를 순서대로 정렬후 가운데 값과 찾는값을 비교하여 찾는값이 더 작으면 왼쪽 데이터들을 사용하고 더 크면 오른쪽 데이터들을 사용\n",
    "##### *장점: 정렬이 되어있다면 O(log N)으로 빠르게 탐색 가능하다\n",
    "##### *단점: 정렬이 되어있지 않다면 시간이 오래걸린다.\n",
    "###### 직접구현 방식"
   ]
  },
  {
   "cell_type": "code",
   "execution_count": null,
   "id": "18d56cb8-12cd-4824-b9f6-41468c02a9b4",
   "metadata": {},
   "outputs": [],
   "source": [
    "def binarySearch(array, value, low, high):\n",
    "    if low > high:\n",
    "        return False\n",
    "    mid = (low + high)/2\n",
    "    if array[mid] > value:\n",
    "        return binarySearch(array, value,low, mid-1)\n",
    "    elif array[mid] < value :\n",
    "        return binarySearch(array, value, mid+1, high)\n",
    "    else:\n",
    "        return mid\n",
    "        "
   ]
  }
 ],
 "metadata": {
  "kernelspec": {
   "display_name": "Python 3 (ipykernel)",
   "language": "python",
   "name": "python3"
  },
  "language_info": {
   "codemirror_mode": {
    "name": "ipython",
    "version": 3
   },
   "file_extension": ".py",
   "mimetype": "text/x-python",
   "name": "python",
   "nbconvert_exporter": "python",
   "pygments_lexer": "ipython3",
   "version": "3.10.11"
  }
 },
 "nbformat": 4,
 "nbformat_minor": 5
}
