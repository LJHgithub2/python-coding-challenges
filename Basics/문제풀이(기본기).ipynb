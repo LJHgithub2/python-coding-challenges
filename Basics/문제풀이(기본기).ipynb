{
 "cells": [
  {
   "cell_type": "markdown",
   "id": "5c060131-daab-4f8d-a116-ca299f3f3488",
   "metadata": {},
   "source": [
    "## 문제 풀이\n",
    "### 약수 구하기\n",
    "##### 백준 2501번(https://www.acmicpc.net/problem/2501)\n"
   ]
  },
  {
   "cell_type": "markdown",
   "id": "9e202234-0485-4741-8c36-b9fc920a756d",
   "metadata": {},
   "source": [
    "#### 약수 구하는법 = 인수분해 시도 \n",
    "##### ex1) 125 = $5^3$\n",
    "##### ex2) 72 = $3^2$ * $2^3$\n",
    "#### 그 후 모든 조합을 합치면 된다\n",
    "##### ex1)5, 25, 125\n",
    "##### ex2)1, 2, 3, 4, 6, 8, 9, 12, 18, 24, 36, 72\n",
    "\n",
    "#### 알고리즘\n",
    "##### = 약수는 결국 N을 어떤수로 나누었을때 나머지가 0인 수들이다\n",
    "##### 따라서, N을 N보다 작은수들로 모두 나누어 봐서 나머지가 0인놈들만 모아두면 약수를 구할 수 있다\n",
    "\n",
    "#### 입력 데이터\n",
    "##### 6 3\n",
    "#### 출력 데이터\n",
    "##### 3\n"
   ]
  },
  {
   "cell_type": "code",
   "execution_count": 29,
   "id": "65c679d4-a6c7-485a-9236-381e3aadbc61",
   "metadata": {},
   "outputs": [
    {
     "name": "stdin",
     "output_type": "stream",
     "text": [
      " 25 4\n"
     ]
    },
    {
     "name": "stdout",
     "output_type": "stream",
     "text": [
      "0\n",
      "[1, 5, 25]\n"
     ]
    }
   ],
   "source": [
    "N, M = map(int,input().split())\n",
    "list_result = []\n",
    "for i in range(1,N+1):\n",
    "    if N % i == 0 :\n",
    "        list_result.append(i)# 약수 모음집\n",
    "        M = M-1#몇번째 약수인지 체크하는 변수\n",
    "        if M==0:\n",
    "            print(i)\n",
    "            break\n",
    "if M>0:\n",
    "    print(0)#몇번째 약수가 없을경우 0 출력\n",
    "print(list_result)\n",
    "    "
   ]
  },
  {
   "cell_type": "markdown",
   "id": "9dbe8b01-e8fe-4948-8193-5ecbe4ccd75b",
   "metadata": {},
   "source": [
    "### 이진수 구하기\n",
    "##### 백준 3460번(https://www.acmicpc.net/problem/3460)\n",
    "\n",
    "#### 이진수 구하는법 = 십진수를 2로 계속 나누면서 나머지를 거꾸로 읽으면 이진수이다.\n",
    "##### ex1) 13 = 13/2 ... 1 > 6/2 ...0 > 3/2 ...1 > 1/2 ...1 => 1101(13)\n",
    "\n",
    "#### 알고리즘\n",
    "##### = 자연수 N을 2로 나누면서 나머지들을 거꾸로 읽으면 이진수이므로 나머지연산을 통해 이진수 배열을 만든다.\n",
    "##### 최하위 비트(least significant bit, lsb)의 위치는 0이므로 역순으로 되어있는 이진수가 유리하다.\n",
    "##### 따라서 for문을 통해 인덱스의 위치를 반환하면된다.\n",
    "\n",
    "#### 입력 데이터\n",
    "##### 1\n",
    "##### 13\n",
    "#### 출력 데이터\n",
    "##### 0 2 3"
   ]
  },
  {
   "cell_type": "code",
   "execution_count": 36,
   "id": "1b4095ef-3633-4cb7-a01e-438338e5d499",
   "metadata": {},
   "outputs": [
    {
     "name": "stdin",
     "output_type": "stream",
     "text": [
      " 1\n",
      " 13\n"
     ]
    },
    {
     "name": "stdout",
     "output_type": "stream",
     "text": [
      "0 2 3 \n",
      "[1, 0, 1, 1]\n"
     ]
    },
    {
     "data": {
      "text/plain": [
       "0"
      ]
     },
     "execution_count": 36,
     "metadata": {},
     "output_type": "execute_result"
    }
   ],
   "source": [
    "# 나의 풀이\n",
    "list_ = [int(input()) for _ in range(0,int(input()))]\n",
    "for i in list_:\n",
    "    arr = list()\n",
    "    while i != 0:\n",
    "        arr.append(i%2)#역순 이진수 배열 만들기\n",
    "        i = i//2\n",
    "    for i in range(0,len(arr)):\n",
    "        if arr[i]:\n",
    "            print(i,end=\" \")\n",
    "    print()# 줄바꿈"
   ]
  },
  {
   "cell_type": "code",
   "execution_count": 32,
   "id": "13512e3f-324f-4784-bcee-36d990170623",
   "metadata": {},
   "outputs": [
    {
     "name": "stdin",
     "output_type": "stream",
     "text": [
      " 1\n",
      " 13\n"
     ]
    },
    {
     "name": "stdout",
     "output_type": "stream",
     "text": [
      "0 2 3 "
     ]
    }
   ],
   "source": [
    "# 다른 사람의 풀이 1 (bin()함수 이용)\n",
    "T = int(input())\n",
    "\n",
    "for _ in range(T):\n",
    "    n = bin(int(input()))[2:]#bin(int숫자) = Ob이진수, [2:] -> Ob를 제거하기위해\n",
    "    for i in range(len(n)):\n",
    "        if n[-i-1] == '1':#역순 이진수 배열로 봐야하기때문에 - 붙여줌\n",
    "            print(i, end = \" \")"
   ]
  },
  {
   "cell_type": "code",
   "execution_count": 1,
   "id": "e2b3c14c-fcfe-42fc-95b4-0bc3c5574921",
   "metadata": {},
   "outputs": [
    {
     "name": "stdin",
     "output_type": "stream",
     "text": [
      " 1\n",
      " 13\n"
     ]
    },
    {
     "name": "stdout",
     "output_type": "stream",
     "text": [
      "0 2 3\n"
     ]
    }
   ],
   "source": [
    "# 다른 사람의 풀이 1 (이진수를 따로 만들지않고 인덱스 배열 생성)\n",
    "T = int(input())\n",
    "\n",
    "while T > 0:\n",
    "    num = int(input())\n",
    "    results = []\n",
    "    cnt = 0\n",
    "    \n",
    "    while num > 0:\n",
    "        if num % 2 == 1:\n",
    "            results.append(cnt)\n",
    "        num //= 2\n",
    "        cnt += 1\n",
    "    print(' '.join(map(str, results)))\n",
    "    T -= 1"
   ]
  },
  {
   "cell_type": "markdown",
   "id": "50b312b0-f8a4-4257-8a11-5d3e5acf8d44",
   "metadata": {},
   "source": [
    "### 최소값, 최대값 구하기\n",
    "##### 백준 10818번(https://www.acmicpc.net/problem/10818)\n",
    "\n",
    "#### 최소값, 최대값 구하는법 = min(),max()함수 이용, for 문 돌면서 비교\n",
    "\n",
    "#### 알고리즘\n",
    "##### = 내장함수인 min, max 함수를 이용하거나 min,max변수에 가장 큰수, 가장 작은수를 저장후 모든 요소랑 비교한다.\n",
    "##### 가장 큰 수, 가장 작은 수를 저장하지 않고 배열안 요소를 먼저 저장하고 비교해도 상관없다.\n",
    "\n",
    "#### 입력 데이터\n",
    "##### 5\n",
    "##### 20 10 35 30 7\n",
    "#### 출력 데이터\n",
    "##### 7 35"
   ]
  },
  {
   "cell_type": "code",
   "execution_count": 4,
   "id": "0e8e5014-950a-4af3-87d0-d6d955c6e885",
   "metadata": {},
   "outputs": [
    {
     "name": "stdin",
     "output_type": "stream",
     "text": [
      " 5\n",
      " 20 10 35 30 7\n"
     ]
    },
    {
     "name": "stdout",
     "output_type": "stream",
     "text": [
      "7 35\n"
     ]
    }
   ],
   "source": [
    "# 나의 풀이\n",
    "import sys\n",
    "N =input()\n",
    "list_ =  list(map(int,input().split()))\n",
    "min = sys.maxsize# 가장큰수\n",
    "max = -sys.maxsize\n",
    "for i in list_:\n",
    "    if min > i:\n",
    "        min = i\n",
    "    if max < i:\n",
    "        max =i\n",
    "print(min, max)"
   ]
  },
  {
   "cell_type": "code",
   "execution_count": 24,
   "id": "8310b07c-1b3a-49cb-99fb-c1bf69682474",
   "metadata": {},
   "outputs": [
    {
     "data": {
      "text/plain": [
       "20"
      ]
     },
     "execution_count": 24,
     "metadata": {},
     "output_type": "execute_result"
    }
   ],
   "source": [
    "# 다른사람 풀이 1\n",
    "cnt = int(input())\n",
    "numbers = list(map(int, input().split()))\n",
    "max = numbers[0]# 요소 하나를 먼저 넣는다.\n",
    "min = numbers[0]\n",
    "\n",
    "for i in numbers[1:]:\n",
    "    if i > max:\n",
    "        max = i\n",
    "    elif i < min:\n",
    "        min = i\n",
    "\n",
    "print(min,max)​"
   ]
  },
  {
   "cell_type": "code",
   "execution_count": 2,
   "id": "fb00960a-6ee6-4850-8eef-9672f8ab2bb1",
   "metadata": {},
   "outputs": [
    {
     "name": "stdin",
     "output_type": "stream",
     "text": [
      " 5\n",
      " 20 10 35 55 7\n"
     ]
    },
    {
     "name": "stdout",
     "output_type": "stream",
     "text": [
      "7 55\n"
     ]
    }
   ],
   "source": [
    "# 다른사람 풀이 2\n",
    "cnt = int(input())\n",
    "numbers = list(map(int, input().split()))\n",
    "print(min(numbers),max(numbers))# 내장함수 이용 -> 앞에 변수이름과 겹치면 안된다. -> jupyter 리셋 필요"
   ]
  },
  {
   "cell_type": "markdown",
   "id": "9a61ccec-ecec-439b-8cc1-6097c188b08d",
   "metadata": {},
   "source": [
    "### 지능형 기차 2\n",
    "##### 백준 2460번(https://www.acmicpc.net/problem/10818)\n",
    "\n",
    "#### 알고리즘\n",
    "##### = 역이 순차적으로 정거하기때문에 한 역마다 기차 내 총 승객들을 검사하여 max값을 선정한다.\n",
    "\n",
    "#### 입력 데이터"
   ]
  },
  {
   "cell_type": "raw",
   "id": "c89fe8ed-19a8-4795-ad24-85e2b4e799bd",
   "metadata": {},
   "source": [
    "0 32\n",
    "3 13\n",
    "28 25\n",
    "17 5\n",
    "21 20\n",
    "11 0\n",
    "12 12\n",
    "4 2\n",
    "0 8\n",
    "21 0"
   ]
  },
  {
   "cell_type": "markdown",
   "id": "380f4430-3ae7-4c8f-b3ce-e85462f1d22b",
   "metadata": {},
   "source": [
    "#### 출력 데이터\n",
    "##### 42"
   ]
  },
  {
   "cell_type": "code",
   "execution_count": 11,
   "id": "8469385f-8690-4f95-891d-8ea42af555d9",
   "metadata": {},
   "outputs": [
    {
     "name": "stdin",
     "output_type": "stream",
     "text": [
      " 0 32\n",
      " 3 13\n",
      " 28 25\n",
      " 17 5\n",
      " 21 20\n",
      " 11 0\n",
      " 12 12\n",
      " 4 2\n",
      " 0 8\n",
      " 21 0\n"
     ]
    },
    {
     "name": "stdout",
     "output_type": "stream",
     "text": [
      "42\n"
     ]
    }
   ],
   "source": [
    "#나의 풀이\n",
    "max = 0\n",
    "count = 0\n",
    "for i in range(0,10):\n",
    "    depart,board = map(int,input().split())\n",
    "    count = count - depart + board\n",
    "    if max < count:\n",
    "        max = count;\n",
    "print(max)"
   ]
  },
  {
   "cell_type": "code",
   "execution_count": 1,
   "id": "3f237058-a247-4f99-858f-f325bae75f1f",
   "metadata": {},
   "outputs": [
    {
     "name": "stdin",
     "output_type": "stream",
     "text": [
      " 0 32\n",
      " 3 13\n",
      " 28 25\n",
      " 17 5\n",
      " 21 20\n",
      " 11 0\n",
      " 12 12\n",
      " 4 2\n",
      " 0 8\n",
      " 21 0\n"
     ]
    },
    {
     "name": "stdout",
     "output_type": "stream",
     "text": [
      "42\n"
     ]
    }
   ],
   "source": [
    "# 다른사람 풀이 1 (max 내장함수 이용)\n",
    "passenger = 0\n",
    "max_passenger = 0\n",
    "\n",
    "for _ in range(10):\n",
    "    out_train, in_train  = map(int, input().split()) \n",
    "    passenger += in_train - out_train \n",
    "    max_passenger = max(passenger, max_passenger) # notebook 인터프리터 안에 max변수를 선언했으면 안된다.\n",
    "    \n",
    "print(max_passenger)"
   ]
  },
  {
   "cell_type": "markdown",
   "id": "cc146690-a7a8-47d2-916d-aa06254f82ea",
   "metadata": {},
   "source": [
    "### 피보나치 수 구하기\n",
    "##### 백준 10870번(https://www.acmicpc.net/problem/10870)\n",
    "\n",
    "#### 피보나치 수 구하는법 = 0과 1로 처음 시작하고 다음으로 올 수는 Fn = Fn-1 + Fn-2 (n ≥ 2) 이런 규칙에 따라 정해진다.\n",
    "\n",
    "#### 알고리즘\n",
    "##### = 기본적으로 0,1을 깔고가니깐 list에 초기화해주고 append를 통해 하나씩 늘려가준다.\n",
    "\n",
    "#### 입력 데이터\n",
    "##### 10\n",
    "#### 출력 데이터\n",
    "##### 55"
   ]
  },
  {
   "cell_type": "code",
   "execution_count": 13,
   "id": "89b091bc-7a86-4e32-881e-f6b1ddb0838b",
   "metadata": {},
   "outputs": [
    {
     "name": "stdin",
     "output_type": "stream",
     "text": [
      " 10\n"
     ]
    },
    {
     "name": "stdout",
     "output_type": "stream",
     "text": [
      "55\n"
     ]
    }
   ],
   "source": [
    "# 나의 풀이\n",
    "N= int(input())\n",
    "list_ = [0,1]\n",
    "for i in range(1,N):\n",
    "    list_.append(list_[i]+list_[i-1])\n",
    "print(list_[N])\n"
   ]
  },
  {
   "cell_type": "markdown",
   "id": "5b5c7526-cfae-46df-84ed-5de2438b7b79",
   "metadata": {},
   "source": [
    "### 일곱 난쟁이\n",
    "##### 백준 2309번(https://www.acmicpc.net/problem/2309)\n",
    "\n",
    "#### 일곱 난쟁이일 경우를 모두 조합하여 검증한다 -> 순열 필요(순서는 상관없다, 합연산이기때문에)\n",
    "\n",
    "#### 알고리즘\n",
    "##### = 키를 이용하여 요소가 7개인 조합들을 전부 생성한다 -> 모든 조합을 순찰하면서 요소의 합이 100인지 검사 -> 100이면 정렬 후 출력한다. \n",
    "\n",
    "#### 입력 데이터"
   ]
  },
  {
   "cell_type": "raw",
   "id": "cf46f6dd-800b-4cef-9d9b-c8ce63dca30c",
   "metadata": {},
   "source": [
    "20\n",
    "7\n",
    "23\n",
    "19\n",
    "10\n",
    "15\n",
    "25\n",
    "8\n",
    "13"
   ]
  },
  {
   "cell_type": "markdown",
   "id": "04fe2999-17f8-4d80-ad1a-4cad81766612",
   "metadata": {},
   "source": [
    "#### 출력 데이터"
   ]
  },
  {
   "cell_type": "raw",
   "id": "d322ddd0-eb6e-446a-93c9-ca7712724eb4",
   "metadata": {},
   "source": [
    "7\n",
    "8\n",
    "10\n",
    "13\n",
    "19\n",
    "20\n",
    "23"
   ]
  },
  {
   "cell_type": "code",
   "execution_count": 30,
   "id": "f109f5f1-d026-445b-890a-c674cc2d86a6",
   "metadata": {},
   "outputs": [
    {
     "name": "stdin",
     "output_type": "stream",
     "text": [
      " 20\n",
      " 7\n",
      " 23\n",
      " 19\n",
      " 10\n",
      " 15\n",
      " 25\n",
      " 8\n",
      " 13\n"
     ]
    },
    {
     "name": "stdout",
     "output_type": "stream",
     "text": [
      "7\n",
      "8\n",
      "10\n",
      "13\n",
      "19\n",
      "20\n",
      "23\n"
     ]
    }
   ],
   "source": [
    "# 나의 풀이\n",
    "from itertools import combinations\n",
    "list_ = [int(input()) for _ in range(0,9)]\n",
    "for i in combinations(list_,7):\n",
    "    if sum(i) == 100:\n",
    "        for j in sorted(i):\n",
    "            print(j)\n",
    "        break"
   ]
  },
  {
   "cell_type": "markdown",
   "id": "ceb15c04-c0ac-4399-985c-2a2e98b7138f",
   "metadata": {},
   "source": [
    "### 최대 공약수, 최소 공배수 구하기\n",
    "##### 백준 2609번(https://www.acmicpc.net/problem/2609)\n",
    "\n",
    "#### 최대 공약수 구하는법 = 두 수의 공통 약수중에 가장 큰 수\n",
    "#### 최소 공배수 구하는법 = 두 수의 공통 배수중에 가장 작은 수\n",
    "#### 유클리드 호제법 = 두 수 a, b의 최대 공약수를 구하는 방법으로 a,b의 최대공약수는 b와 a/b의 나머지인 r의 공약수와 같다는 원리를 사용하여 최대 공약수를 구하는것이다. * a%b와 b의 최대 공약수와 a와 b의 최대공약수는 같다 (단, a>b)\n",
    "\n",
    "#### 알고리즘\n",
    "##### 유클리드 호제법을 사용하여  a / b = q1 ...r1 이라면 b / r1 = q2 .... r2 이런식으로 나머지가 0이 될때까지 반복한후 그당시 분모가 최대공약수이다.\n",
    "\n",
    "#### 입력 데이터\n",
    "##### 24 18\n",
    "#### 출력 데이터\n",
    "##### 6\n",
    "##### 72"
   ]
  },
  {
   "cell_type": "code",
   "execution_count": 2,
   "id": "ab19eca4-e698-462e-8cfe-d1eab19cf5c7",
   "metadata": {},
   "outputs": [
    {
     "name": "stdin",
     "output_type": "stream",
     "text": [
      " 256 362\n"
     ]
    },
    {
     "name": "stdout",
     "output_type": "stream",
     "text": [
      "2\n",
      "46336\n"
     ]
    }
   ],
   "source": [
    "# 나의 풀이 (틀림)\n",
    "N, M = map(int, input().split())\n",
    "max_com_divisor = 0\n",
    "min_com_multiple = 0\n",
    "for i in range(2,min(N, M)+1):\n",
    "    if N % i ==0 and M %i ==0:\n",
    "        max_com_divisor = i\n",
    "cnt1 = 1\n",
    "cnt2 = 1\n",
    "while cnt1<10000 and cnt2 < 10000:\n",
    "    N_ = N*cnt1\n",
    "    M_ = M*cnt2\n",
    "    if N_ == M_:\n",
    "        min_com_multiple = N_\n",
    "        break\n",
    "    elif N_ < M_:\n",
    "        cnt1 +=1\n",
    "    else :\n",
    "        cnt2 +=1\n",
    "        \n",
    "print(max_com_divisor)\n",
    "print(min_com_multiple)"
   ]
  },
  {
   "cell_type": "code",
   "execution_count": 1,
   "id": "ff4d01bc-a256-4da0-bd4f-596f1e0c6ac4",
   "metadata": {},
   "outputs": [
    {
     "name": "stdin",
     "output_type": "stream",
     "text": [
      " 256 362\n"
     ]
    },
    {
     "name": "stdout",
     "output_type": "stream",
     "text": [
      "2\n",
      "46336\n"
     ]
    }
   ],
   "source": [
    "# 다른사람 풀이1\n",
    "N, M = map(int, input().split())\n",
    "a, b =N, M\n",
    "while b > 0:\n",
    "    a,b= b, a%b #유클리드 호제법\n",
    "print(a)\n",
    "print(N*M//a)"
   ]
  },
  {
   "cell_type": "markdown",
   "id": "533de362-381a-4ae0-b580-aa6fdb91b084",
   "metadata": {},
   "source": [
    "### 배열안에서 N번째 큰수 찾기\n",
    "##### 백준 2693번(https://www.acmicpc.net/problem/2693)\n",
    "\n",
    "#### N번째 큰 수를 찾을려면 정렬이 필수이다.\n",
    "\n",
    "#### 알고리즘\n",
    "##### 배열 한바퀴를 돌면서 정렬한 후 N번째 큰 수를 출력한다.\n",
    "\n",
    "#### 입력 데이터"
   ]
  },
  {
   "cell_type": "raw",
   "id": "b32bc419-c9b4-4845-b2ee-8230df626dc7",
   "metadata": {},
   "source": [
    "4\n",
    "1 2 3 4 5 6 7 8 9 1000\n",
    "338 304 619 95 343 496 489 116 98 127\n",
    "931 240 986 894 826 640 965 833 136 138\n",
    "940 955 364 188 133 254 501 122 768 408"
   ]
  },
  {
   "cell_type": "markdown",
   "id": "0b6f7d01-508f-48c2-8390-2ad76a39c4a9",
   "metadata": {},
   "source": [
    "#### 출력 데이터"
   ]
  },
  {
   "cell_type": "raw",
   "id": "f21d9063-e6ba-48c9-8175-eba2e6dfc913",
   "metadata": {},
   "source": [
    "8\n",
    "489\n",
    "931\n",
    "768"
   ]
  },
  {
   "cell_type": "code",
   "execution_count": 14,
   "id": "bd9a6015-42eb-426c-9df4-4cfff2053bdc",
   "metadata": {},
   "outputs": [
    {
     "name": "stdin",
     "output_type": "stream",
     "text": [
      " 4\n",
      " 1 2 3 4 5 6 7 8 9 1000\n",
      " 338 304 619 95 343 496 489 116 98 127\n",
      " 931 240 986 894 826 640 965 833 136 138\n",
      " 940 955 364 188 133 254 501 122 768 408\n"
     ]
    },
    {
     "name": "stdout",
     "output_type": "stream",
     "text": [
      "8\n",
      "489\n",
      "931\n",
      "768\n"
     ]
    }
   ],
   "source": [
    "# 나의 풀이 (내장함수 X, 선택 정렬), input()으로 하면 많이느리다.\n",
    "list_= [list(map(int, input().split())) for _ in range(int(input()))]\n",
    "for i in range(len(list_)):\n",
    "    for j in range(3):\n",
    "        idx=0\n",
    "        max=0\n",
    "        for k in range(j,len(list_[i])):\n",
    "            if list_[i][k]>=max:\n",
    "                max = list_[i][k]\n",
    "                idx = k\n",
    "        list_[i][j],list_[i][idx]=list_[i][idx],list_[i][j]\n",
    "    print(list_[i][2])"
   ]
  },
  {
   "cell_type": "code",
   "execution_count": null,
   "id": "d8f349ed-d384-4ba5-99e3-18f34c54f4f8",
   "metadata": {},
   "outputs": [],
   "source": [
    "# 다른사람 풀이1(내장함수 사용)\n",
    "import sys\n",
    "for _ in range(int(sys.stdin.readline())):\n",
    "    A = list(map(int, sys.stdin.readline().split()))\n",
    "    print(sorted(A)[-3])"
   ]
  },
  {
   "cell_type": "code",
   "execution_count": null,
   "id": "a5b576b9-d7f2-476c-bea1-eb5d02ab57c6",
   "metadata": {},
   "outputs": [],
   "source": [
    "# 다른사람 풀이2(내장함수 사용)\n",
    "for i in[*open(0)][1:]:print(sorted(map(int,i.split()))[7])"
   ]
  },
  {
   "cell_type": "code",
   "execution_count": null,
   "id": "ab213290-55cb-4a56-8aa5-b7b74948a82d",
   "metadata": {},
   "outputs": [],
   "source": [
    "# 다른사람 풀이3(내장함수 X, 버블정렬 사용)\n",
    "import sys\n",
    "n=int(input())\n",
    "for _ in range(n):\n",
    "    A=list(map(int,sys.stdin.readline().split()))\n",
    "    for i in range(9,6,-1):# 버블정렬(뒤에서부터 3번만 -> 9,8,7)\n",
    "        for j in range(i):\n",
    "            if A[j]>A[j+1]:\n",
    "                A[j],A[j+1]=A[j+1],A[j]\n",
    "    print(A[7])"
   ]
  },
  {
   "cell_type": "markdown",
   "id": "c58ca5de-c6da-4e08-b5f2-b1a7957b3f20",
   "metadata": {},
   "source": [
    "### 소수 찾기\n",
    "##### 백준 1978번(https://www.acmicpc.net/problem/1978)\n",
    "\n",
    "#### 소수 : 어떤수를 약분했을때 1과 자기자신만 약분할 수 있으면 소수이다\n",
    "#### 소수 판별하는법: 어떤 수 x가 소수인지 판별하는법은 0부터 x 까지 전부 x에 나누면 된다. 이때 0부터 x까지 나눌필요는 없고 0부터 x의 제곱근까지만 나눠도 괜찮다. -> 어떤 수 의 약수는 대칭이기 때문에 \n",
    "##### ex) 16의 약수 : 1 2 4 4 8 16  -> 제곱근인 4를 기준으로 대칭구조이다\n",
    "\n",
    "#### 알고리즘\n",
    "##### 어떤 수 x의 제곱근 y를 구한다 -> x를 2부터 y까지 반복하여 나머지연산을 하고 만약 0이 나왔다면 중지하고 약수가 아니라고 판별한다.(단, x가 1일땐 약수가 아니다) \n",
    "\n",
    "#### 입력 데이터\n",
    "##### 4\n",
    "##### 1 3 5 7\n",
    "#### 출력 데이터\n",
    "##### 3"
   ]
  },
  {
   "cell_type": "code",
   "execution_count": 43,
   "id": "bd091376-74bd-42e1-bf11-eb95ccfc8c07",
   "metadata": {},
   "outputs": [
    {
     "name": "stdin",
     "output_type": "stream",
     "text": [
      " 4\n",
      " 1 3 5 7\n"
     ]
    },
    {
     "name": "stdout",
     "output_type": "stream",
     "text": [
      "3\n"
     ]
    }
   ],
   "source": [
    "# 나의 풀이\n",
    "N ,list_= int(input()), list(map(int, input().split()))\n",
    "count =0\n",
    "for i in list_:\n",
    "    if i == 1: continue\n",
    "    for j in range(2,int(i**(1/2))):# ** -> 제곱 연산\n",
    "        if i % j == 0 :\n",
    "            break\n",
    "    count += 1\n",
    "print(count)"
   ]
  },
  {
   "cell_type": "code",
   "execution_count": 44,
   "id": "06932980-7715-4268-83c9-6b6d740bfef6",
   "metadata": {},
   "outputs": [
    {
     "name": "stdin",
     "output_type": "stream",
     "text": [
      " 4\n",
      " 1 3 5 7\n"
     ]
    },
    {
     "name": "stdout",
     "output_type": "stream",
     "text": [
      "3\n"
     ]
    }
   ],
   "source": [
    "# 다른사람 풀이1 (for - else 문 사용)\n",
    "input()\n",
    "l = list(map(int, input().split()))\n",
    "cont = 0\n",
    "\n",
    "for x in l:\n",
    "  if x <= 1: continue\n",
    "  for j in range(2, int(x ** 1/2)+1): # for - else 문 : for뒤에 else가 나오면 for문이 break로 끊키지 않고 정상적으로 종료되었을때 else구문을 실행한다.\n",
    "    if x % j == 0: break\n",
    "  else:\n",
    "    cont += 1\n",
    "\n",
    "print(cont)"
   ]
  },
  {
   "cell_type": "markdown",
   "id": "a154ba11-be70-4226-b80c-3d7c7142d539",
   "metadata": {},
   "source": [
    "### 쉽게 푸는 문제(특정한 수열 생성)\n",
    "##### 백준 1292번(https://www.acmicpc.net/problem/1292)\n",
    "\n",
    "#### 문제에서 제기하는 수열을 만드는것이 핵심이다 -> 1,2,2,3,3,3... 이런식의 수열은 이중for문을 사용하여 구현한다. (문제에서 인덱스 범위가 1000까지임으로 46까지만 수열을 만들어도된다)\n",
    "\n",
    "#### 알고리즘\n",
    "##### 46까지 돌아가는 for문을 생성-> 그안에 현재 for문에서 사용하는 숫자 i만큼 반복하여 i를 리스트를 추가한다. -> 완료시 list 필요한만큼 슬라이싱하여 sum함수에 넣는다. \n",
    "\n",
    "#### 입력 데이터\n",
    "##### 3 7\n",
    "#### 출력 데이터\n",
    "##### 15"
   ]
  },
  {
   "cell_type": "code",
   "execution_count": 23,
   "id": "7a3403ca-f3ef-4821-b149-84a2af7bdb12",
   "metadata": {},
   "outputs": [
    {
     "name": "stdin",
     "output_type": "stream",
     "text": [
      " 3 7\n"
     ]
    },
    {
     "name": "stdout",
     "output_type": "stream",
     "text": [
      "15\n"
     ]
    }
   ],
   "source": [
    "# 나의 풀이\n",
    "n,m=map(int,input().split())\n",
    "list_ = list()\n",
    "for i in range(46): # 문제에서 범위가 1000까지이므로 46까지만 해도됌\n",
    "    for j in range(i):\n",
    "        list_.append(i)# 수열 만들기\n",
    "print(sum(list_[n-1:m]))"
   ]
  },
  {
   "cell_type": "code",
   "execution_count": 22,
   "id": "b3255fb4-332e-4cec-837e-431035281b32",
   "metadata": {},
   "outputs": [
    {
     "name": "stdin",
     "output_type": "stream",
     "text": [
      " 3 7\n"
     ]
    },
    {
     "name": "stdout",
     "output_type": "stream",
     "text": [
      "15\n"
     ]
    }
   ],
   "source": [
    "# 다른사람 풀이\n",
    "A, B = map(int, input().split())\n",
    "l = []\n",
    "for i in range(1, 46):\n",
    "    l += [i] * i # 내풀이와 비슷하지만 이중 for문을 사용한것이아닌 [i]를 곱하기로 i만큼생성해 리스트에 붙여놓았다. ex) l += [2],[2]\n",
    "\n",
    "print(sum(l[A-1 : B]))"
   ]
  },
  {
   "cell_type": "markdown",
   "id": "3be198a5-40c8-4721-908f-23ab39ac5e22",
   "metadata": {},
   "source": [
    "### 소수(범위안에서 소수 모두 찾기)\n",
    "##### 백준 2581번(https://www.acmicpc.net/problem/2581)\n",
    "\n",
    "#### 에라토스테네스의 체 : 대량의 숫자들 안에서 소수를 판별하기위한 효율적으로 방법\n",
    "#####  => https://namu.wiki/w/%EC%97%90%EB%9D%BC%ED%86%A0%EC%8A%A4%ED%85%8C%EB%84%A4%EC%8A%A4%EC%9D%98%20%EC%B2%B4\n",
    "#### 알고리즘\n",
    "##### 1. 하나씩 소수 판별하기\n",
    "##### 2. 에라토스테네스의 체 구현 : n,m중에서 m가지있는 참,거짓리스트를 만든다(0,1,제외하고 다 True)-> 반복문을 통해 true를 만나면 그 인덱스의 배수 인덱스들을 false로 설정한다.-> m의 제곱근까지만 돌면된다.\n",
    "#### 입력 데이터1\n",
    "##### 60\n",
    "##### 100\n",
    "#### 출력 데이터1\n",
    "##### 620\n",
    "##### 61\n",
    "#### 입력 데이터2\n",
    "##### 64\n",
    "##### 65\n",
    "#### 출력 데이터2\n",
    "##### -1"
   ]
  },
  {
   "cell_type": "code",
   "execution_count": 75,
   "id": "ee088280-7a37-42e9-9ea1-eb1bd4c9db21",
   "metadata": {},
   "outputs": [
    {
     "name": "stdin",
     "output_type": "stream",
     "text": [
      " 60\n",
      " 100\n"
     ]
    },
    {
     "name": "stdout",
     "output_type": "stream",
     "text": [
      "620\n",
      "61\n"
     ]
    }
   ],
   "source": [
    "# 나의 풀이\n",
    "n,m = int(input()), int(input())\n",
    "list_ = []\n",
    "\n",
    "def prm(num):\n",
    "    for i in range(2,int(num**1/2+1)): # 제곱근을 이용하여 소수를 판별할시 +1을 더해주는것은 range(n,m)함수가 n부터 m-1까지만 반복하기때문이다.\n",
    "        if num % i ==0:\n",
    "            return False\n",
    "    return True\n",
    "\n",
    "for i in range(n,m+1):# +1 더해주는이유는 위와 같다.\n",
    "    if i!=1 and prm(i):# 1은 소수가 아니기때문에 제외해준다.\n",
    "        list_.append(i)\n",
    "        \n",
    "if len(list_)>0:\n",
    "    print(sum(list_))\n",
    "    print(min(list_))\n",
    "else: print(-1)"
   ]
  },
  {
   "cell_type": "code",
   "execution_count": 76,
   "id": "f15835a9-33b1-4844-a0a2-a6bf95a461cc",
   "metadata": {},
   "outputs": [
    {
     "name": "stdin",
     "output_type": "stream",
     "text": [
      " 60\n",
      " 100\n"
     ]
    },
    {
     "name": "stdout",
     "output_type": "stream",
     "text": [
      "620\n",
      "61\n"
     ]
    }
   ],
   "source": [
    "# 다른사람 풀이(에라토스테네스의 체 알고리즘 사용)\n",
    "n,m = int(input()), int(input())\n",
    "list_ = [[False,0]]+[[False,1]]+[[True,i+2] for i in range(m-1)]\n",
    "for i in range(int(m**0.5+1)):\n",
    "    if list_[i][0]:\n",
    "        for j in range(i*i,m+1,i):#소수의 배수들을 for문을 통해 방문하는 방법이다. -> 시작점을 소수*소수로 하는이유는 소수의 배수들을 지울거지만 그이전에 소수보다 작은 배수들을 지웠기 때문에 소수제곱부터 시작해도 무관하다.\n",
    "            list_[j][0]=False\n",
    "result = [i[1] for i in list_ if i[0] and n<=i[1] and m>=i[1]] \n",
    "#result = [(i,v) for i,v in enumerate(list_) if v[0] and n<=i and m>=i] #enumerate()함수를 사용하여 list순회 -> 순회할때마다 (index, value)를 반환해준다.\n",
    "if result:\n",
    "    print(sum(result))\n",
    "    print(result[0])# min\n",
    "else : print(-1)"
   ]
  }
 ],
 "metadata": {
  "kernelspec": {
   "display_name": "Python 3 (ipykernel)",
   "language": "python",
   "name": "python3"
  },
  "language_info": {
   "codemirror_mode": {
    "name": "ipython",
    "version": 3
   },
   "file_extension": ".py",
   "mimetype": "text/x-python",
   "name": "python",
   "nbconvert_exporter": "python",
   "pygments_lexer": "ipython3",
   "version": "3.10.11"
  }
 },
 "nbformat": 4,
 "nbformat_minor": 5
}
